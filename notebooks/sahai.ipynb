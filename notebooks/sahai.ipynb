{
 "cells": [
  {
   "cell_type": "code",
   "execution_count": 360,
   "metadata": {
    "collapsed": true
   },
   "outputs": [],
   "source": [
    "import numpy as np\n",
    "import pandas as pd"
   ]
  },
  {
   "cell_type": "code",
   "execution_count": 361,
   "metadata": {
    "collapsed": false
   },
   "outputs": [],
   "source": [
    "dfAdmissions = pd.read_csv(\"../data/ADMISSIONS.csv\")\n",
    "\n",
    "dfDiagnoses = pd.read_csv(\"../data/DIAGNOSES_ICD.csv\")\n",
    "\n",
    "dfTitle = pd.read_csv(\"../data/d_icd_diagnoses.csv\")\n",
    "\n",
    "df = pd.merge(dfAdmissions, dfDiagnoses, how=\"inner\", on=['SUBJECT_ID'])\n",
    "\n",
    "#\n",
    "\n",
    "#drop na values\n",
    "df = df.dropna()"
   ]
  },
  {
   "cell_type": "code",
   "execution_count": 363,
   "metadata": {
    "collapsed": false
   },
   "outputs": [
    {
     "data": {
      "image/png": "[encoded data removed]",
      "text/plain": [
       "<matplotlib.figure.Figure at 0x120644ba8>"
      ]
     },
     "metadata": {},
     "output_type": "display_data"
    },
    {
     "data": {
      "text/plain": [
       "(55196, 23)"
      ]
     },
     "execution_count": 363,
     "metadata": {},
     "output_type": "execute_result"
    }
   ],
   "source": [
    "import matplotlib.pyplot as plt\n",
    "\n",
    "plt.hist(df['SUBJECT_ID'] ,bins=2053)\n",
    "plt.title(\"Number of Counts for Patients\")\n",
    "plt.xlabel(\"Patient's ID\")\n",
    "plt.ylabel(\"Frequency\")\n",
    "\n",
    "plt.show()\n",
    "\n",
    "df.shape"
   ]
  },
  {
   "cell_type": "code",
   "execution_count": 364,
   "metadata": {
    "collapsed": false,
    "scrolled": false
   },
   "outputs": [],
   "source": [
    "#creating vector of HAI related to pneumonia, and HAP\n",
    "\n",
    "hcapCode = [\"48230\",\"48231\",\"48232\",\"48233\", \"48234\", \"48235\", \"48236\", \"48237\", \"48238\", \n",
    "            \"48239\", \"48240\", \"4830\", \"4822\", \"4820\", \"48240\", \"48241\", \"48242\", \"48243\",\n",
    "           \"48244\", \"48245\", \"48246\", \"48247\", \"48248\", \"48249\", \"48282\", \"48281\", \"48283\",\n",
    "           \"48284\", \"48289\"]\n",
    "\n",
    "#creating boolean values that are HAI related to pneumonia, and HAP\n",
    "df['is_it_HAI'] = df['ICD9_CODE'].map(lambda x: any(x == i for i in hcapCode)) "
   ]
  },
  {
   "cell_type": "markdown",
   "metadata": {},
   "source": [
    "## Total number of HAIs cases"
   ]
  },
  {
   "cell_type": "code",
   "execution_count": 365,
   "metadata": {
    "collapsed": false
   },
   "outputs": [
    {
     "data": {
      "text/plain": [
       "123"
      ]
     },
     "execution_count": 365,
     "metadata": {},
     "output_type": "execute_result"
    }
   ],
   "source": [
    "len(df['SUBJECT_ID'][df['is_it_HAI']].unique())"
   ]
  },
  {
   "cell_type": "markdown",
   "metadata": {},
   "source": [
    "## Total number of cases"
   ]
  },
  {
   "cell_type": "code",
   "execution_count": 366,
   "metadata": {
    "collapsed": false,
    "scrolled": false
   },
   "outputs": [
    {
     "name": "stdout",
     "output_type": "stream",
     "text": [
      "2053\n"
     ]
    }
   ],
   "source": [
    "#finding all unique subject_id\n",
    "subjectID_All = df['SUBJECT_ID'].unique()\n",
    "\n",
    "#finding the subject_id with the HAI\n",
    "subjectID_HAI = df['SUBJECT_ID'][df['is_it_HAI']].unique()\n",
    "\n",
    "#total number of cases remainding \n",
    "print(len(subjectID_All))"
   ]
  },
  {
   "cell_type": "code",
   "execution_count": 367,
   "metadata": {
    "collapsed": false,
    "scrolled": true
   },
   "outputs": [
    {
     "name": "stdout",
     "output_type": "stream",
     "text": [
      "Total number of HAI cases (123, 2)\n",
      "The shape before drop_duplicate function (55196, 24)\n",
      "The shape after drop_duplicate function (2053, 24)\n",
      "Total number of cases (2053, 25)\n",
      "Total number of HAI Cases 123.0\n"
     ]
    }
   ],
   "source": [
    "#creating a dataframe\n",
    "dfHAI = pd.DataFrame()\n",
    "dfHAI['SUBJECT_ID'] = subjectID_HAI\n",
    "dfHAI['is_it_HAI'] = 1\n",
    "print('Total number of HAI cases', dfHAI.shape)\n",
    "\n",
    "#drop duplicate\n",
    "print('The shape before drop_duplicate function', df.shape)\n",
    "df = df.drop_duplicates('SUBJECT_ID')\n",
    "print('The shape after drop_duplicate function', df.shape)\n",
    "\n",
    "#merge dataframes\n",
    "dfFinal = pd.merge(df, dfHAI, how=\"left\", on=['SUBJECT_ID'])\n",
    "dfFinal = dfFinal.replace('NaN', 0)\n",
    "print('Total number of cases', dfFinal.shape)\n",
    "print('Total number of HAI Cases', dfFinal['is_it_HAI_y'].sum())"
   ]
  },
  {
   "cell_type": "code",
   "execution_count": 403,
   "metadata": {
    "collapsed": false
   },
   "outputs": [
    {
     "data": {
      "image/png": "[encoded data removed]",
      "text/plain": [
       "<matplotlib.figure.Figure at 0x1199aabe0>"
      ]
     },
     "metadata": {},
     "output_type": "display_data"
    },
    {
     "data": {
      "text/plain": [
       "0.0"
      ]
     },
     "execution_count": 403,
     "metadata": {},
     "output_type": "execute_result"
    }
   ],
   "source": [
    "#NEED TO CLARIFY THIS PART\n",
    "\n",
    "plt.hist(dfFinal['ROW_ID_x'] ,bins=5000)\n",
    "# plt.title(\"Number of Counts for Patients\")\n",
    "# plt.xlabel(\"Patient's ID\")\n",
    "# plt.ylabel(\"Frequency\")\n",
    "\n",
    "plt.show()"
   ]
  },
  {
   "cell_type": "code",
   "execution_count": 416,
   "metadata": {
    "collapsed": false
   },
   "outputs": [
    {
     "data": {
      "text/plain": [
       "0"
      ]
     },
     "execution_count": 416,
     "metadata": {},
     "output_type": "execute_result"
    }
   ],
   "source": [
    "dfFinal.duplicated('SUBJECT_ID').sum()"
   ]
  },
  {
   "cell_type": "code",
   "execution_count": 417,
   "metadata": {
    "collapsed": false
   },
   "outputs": [],
   "source": [
    "#selecting the relevant variables for logistic regression\n",
    "dfFinal = dfFinal[['INSURANCE','LANGUAGE','RELIGION','MARITAL_STATUS','ETHNICITY','is_it_HAI_y']]"
   ]
  },
  {
   "cell_type": "code",
   "execution_count": 418,
   "metadata": {
    "collapsed": false
   },
   "outputs": [
    {
     "data": {
      "text/plain": [
       "False"
      ]
     },
     "execution_count": 418,
     "metadata": {},
     "output_type": "execute_result"
    }
   ],
   "source": [
    "dfFinal.isnull().values.any()"
   ]
  },
  {
   "cell_type": "code",
   "execution_count": 419,
   "metadata": {
    "collapsed": false
   },
   "outputs": [],
   "source": [
    "#create dummy variables\n",
    "\n",
    "dummy_insurance = pd.get_dummies(dfFinal['INSURANCE'], prefix='INSURANCE')\n",
    "dummy_language = pd.get_dummies(dfFinal['LANGUAGE'], prefix = 'LANGUAGE')\n",
    "dummy_religion = pd.get_dummies(dfFinal['RELIGION'], prefix = 'RELIGION')\n",
    "dummy_maritalStatus = pd.get_dummies(dfFinal['MARITAL_STATUS'], prefix = 'MARITAL_STATUS')\n",
    "dummy_ethnicity = pd.get_dummies(dfFinal['ETHNICITY'], prefix = 'ETHNICITY')\n"
   ]
  },
  {
   "cell_type": "code",
   "execution_count": 420,
   "metadata": {
    "collapsed": false,
    "scrolled": true
   },
   "outputs": [
    {
     "name": "stdout",
     "output_type": "stream",
     "text": [
      "True\n",
      "True\n",
      "True\n",
      "True\n",
      "True\n"
     ]
    }
   ],
   "source": [
    "print(len(list(dummy_insurance.ix[:, 'INSURANCE_Medicaid':])) == len(list(dummy_insurance)) - 1)\n",
    "print(len(list(dummy_language.ix[:, 'LANGUAGE_*AMH':])) == len(list(dummy_language)) - 1)\n",
    "print(len(list(dummy_religion.ix[:, 'RELIGION_BAPTIST':])) == len(list(dummy_religion)) - 1)\n",
    "print(len(list(dummy_maritalStatus.ix[:, 'MARITAL_STATUS_LIFE PARTNER':])) == len(list(dummy_maritalStatus)) - 1)\n",
    "print(len(list(dummy_ethnicity.ix[:, 'ETHNICITY_AMERICAN INDIAN/ALASKA NATIVE FEDERALLY RECOGNIZED TRIBE':])) == len(list(dummy_ethnicity)) - 1)"
   ]
  },
  {
   "cell_type": "code",
   "execution_count": 421,
   "metadata": {
    "collapsed": false,
    "scrolled": true
   },
   "outputs": [
    {
     "data": {
      "text/plain": [
       "['INSURANCE_Medicaid',\n",
       " 'INSURANCE_Medicare',\n",
       " 'INSURANCE_Private',\n",
       " 'INSURANCE_Self Pay']"
      ]
     },
     "execution_count": 421,
     "metadata": {},
     "output_type": "execute_result"
    }
   ],
   "source": [
    "list(dummy_insurance.ix[:, 'INSURANCE_Medicaid':])"
   ]
  },
  {
   "cell_type": "code",
   "execution_count": 422,
   "metadata": {
    "collapsed": false
   },
   "outputs": [
    {
     "data": {
      "text/plain": [
       "['INSURANCE_Government',\n",
       " 'INSURANCE_Medicaid',\n",
       " 'INSURANCE_Medicare',\n",
       " 'INSURANCE_Private',\n",
       " 'INSURANCE_Self Pay']"
      ]
     },
     "execution_count": 422,
     "metadata": {},
     "output_type": "execute_result"
    }
   ],
   "source": [
    "list(dummy_insurance)"
   ]
  },
  {
   "cell_type": "code",
   "execution_count": 423,
   "metadata": {
    "collapsed": true
   },
   "outputs": [],
   "source": [
    "#create a new data frame to fit the dummy variables\n",
    "colsToKeep = ['is_it_HAI_y']\n",
    "data = dfFinal[colsToKeep].join(dummy_insurance.ix[:, 'INSURANCE_Medicaid':])\n",
    "data = data.join(dummy_language.ix[:, 'LANGUAGE_*AMH':])\n",
    "data = data.join(dummy_religion.ix[:, 'RELIGION_BAPTIST':])\n",
    "data = data.join(dummy_maritalStatus.ix[:, 'MARITAL_STATUS_LIFE PARTNER':])\n",
    "data = data.join(dummy_ethnicity.ix[:, 'ETHNICITY_AMERICAN INDIAN/ALASKA NATIVE FEDERALLY RECOGNIZED TRIBE':])"
   ]
  },
  {
   "cell_type": "code",
   "execution_count": 424,
   "metadata": {
    "collapsed": false
   },
   "outputs": [],
   "source": [
    "#logistic regression\n",
    "\n",
    "from sklearn.linear_model import LogisticRegression\n",
    "\n",
    "logistic = LogisticRegression()\n",
    "\n",
    "train_cols = data.columns[1:]\n",
    "\n",
    "logitModel = logistic.fit(data[train_cols], data['is_it_HAI_y'])"
   ]
  },
  {
   "cell_type": "code",
   "execution_count": 425,
   "metadata": {
    "collapsed": false,
    "scrolled": false
   },
   "outputs": [
    {
     "name": "stdout",
     "output_type": "stream",
     "text": [
      "INSURANCE_Medicaid 0.00522809988187\n",
      "INSURANCE_Medicare 0.169473296641\n",
      "INSURANCE_Private -0.137575159239\n",
      "INSURANCE_Self Pay -0.632111181432\n",
      "LANGUAGE_*AMH -0.0417157303107\n",
      "LANGUAGE_*ARM -0.206412156145\n",
      "LANGUAGE_*BEN -0.0608391977724\n",
      "LANGUAGE_*BUR -0.0468421456168\n",
      "LANGUAGE_*CDI -0.10089128718\n",
      "LANGUAGE_*FUL -0.0715525191102\n",
      "LANGUAGE_*GUJ -0.0578767244192\n",
      "LANGUAGE_*HUN -0.10089128718\n",
      "LANGUAGE_*RUS -0.126577300148\n",
      "LANGUAGE_*TOY 0.863297288223\n",
      "LANGUAGE_*YID -0.14878651788\n",
      "LANGUAGE_ALBA 0.867585624775\n",
      "LANGUAGE_AMER 0.713249053253\n",
      "LANGUAGE_CAMB -0.0892367357907\n",
      "LANGUAGE_CANT 0.181114482159\n",
      "LANGUAGE_CAPE -0.0355244412685\n",
      "LANGUAGE_ENGL -0.37708599061\n",
      "LANGUAGE_FREN -0.238244971865\n",
      "LANGUAGE_GREE -0.591055075177\n",
      "LANGUAGE_HAIT 0.264841908019\n",
      "LANGUAGE_HIND -0.13160019232\n",
      "LANGUAGE_ITAL -0.384983691994\n",
      "LANGUAGE_JAPA -0.0450879520683\n",
      "LANGUAGE_KORE -0.167545842962\n",
      "LANGUAGE_LAOT -0.0698096501536\n",
      "LANGUAGE_MAND -0.0849080780991\n",
      "LANGUAGE_PERS 1.19173572096\n",
      "LANGUAGE_POLI -0.166256322114\n",
      "LANGUAGE_PORT -0.0843301297051\n",
      "LANGUAGE_PTUN -0.349378772707\n",
      "LANGUAGE_RUSS -1.07874038321\n",
      "LANGUAGE_SOMA -0.149744027395\n",
      "LANGUAGE_SPAN -0.556668974703\n",
      "LANGUAGE_VIET -0.42508605097\n",
      "RELIGION_BUDDHIST -0.706350938357\n",
      "RELIGION_CATHOLIC -0.357804271053\n",
      "RELIGION_CHRISTIAN SCIENTIST -0.344279354808\n",
      "RELIGION_EPISCOPALIAN -0.248795254675\n",
      "RELIGION_GREEK ORTHODOX 0.429778468577\n",
      "RELIGION_HEBREW -0.079334316398\n",
      "RELIGION_HINDU -0.300519731577\n",
      "RELIGION_JEHOVAH'S WITNESS -0.376184319041\n",
      "RELIGION_JEWISH -0.0911852605412\n",
      "RELIGION_MUSLIM 0.544498450386\n",
      "RELIGION_NOT SPECIFIED -0.196198556552\n",
      "RELIGION_OTHER 0.222825369396\n",
      "RELIGION_PROTESTANT QUAKER 0.244529054465\n",
      "RELIGION_ROMANIAN EAST. ORTH 0.339535726413\n",
      "RELIGION_UNITARIAN-UNIVERSALIST -0.337584386005\n",
      "RELIGION_UNOBTAINABLE -0.672857412143\n",
      "MARITAL_STATUS_MARRIED -0.09821448494\n",
      "MARITAL_STATUS_SEPARATED -0.09242988018\n",
      "MARITAL_STATUS_SINGLE -0.180299448489\n",
      "MARITAL_STATUS_UNKNOWN (DEFAULT) -0.316976360395\n",
      "MARITAL_STATUS_WIDOWED -0.6596739029\n",
      "ETHNICITY_AMERICAN INDIAN/ALASKA NATIVE FEDERALLY RECOGNIZED TRIBE -0.107704786494\n",
      "ETHNICITY_ASIAN 0.194076139272\n",
      "ETHNICITY_ASIAN - ASIAN INDIAN -0.0913176707095\n",
      "ETHNICITY_ASIAN - CAMBODIAN -0.0892367357907\n",
      "ETHNICITY_ASIAN - CHINESE 0.0538856301181\n",
      "ETHNICITY_ASIAN - FILIPINO -0.102757590466\n",
      "ETHNICITY_ASIAN - JAPANESE -0.0398203588519\n",
      "ETHNICITY_ASIAN - KOREAN -0.057309582848\n",
      "ETHNICITY_ASIAN - VIETNAMESE -0.188659417869\n",
      "ETHNICITY_BLACK/AFRICAN -0.162643410311\n",
      "ETHNICITY_BLACK/AFRICAN AMERICAN -0.121387433357\n",
      "ETHNICITY_BLACK/CAPE VERDEAN -0.344701457247\n",
      "ETHNICITY_BLACK/HAITIAN -0.37342041294\n",
      "ETHNICITY_HISPANIC OR LATINO -0.118044054226\n",
      "ETHNICITY_HISPANIC/LATINO - DOMINICAN -0.0564164380285\n",
      "ETHNICITY_HISPANIC/LATINO - GUATEMALAN -0.0388735902091\n",
      "ETHNICITY_HISPANIC/LATINO - PUERTO RICAN -0.358493024089\n",
      "ETHNICITY_MIDDLE EASTERN -0.149542418353\n",
      "ETHNICITY_MULTI RACE ETHNICITY -0.342424721624\n",
      "ETHNICITY_OTHER 0.230295703767\n",
      "ETHNICITY_PATIENT DECLINED TO ANSWER -0.315155824999\n",
      "ETHNICITY_PORTUGUESE 0.758225951755\n",
      "ETHNICITY_UNABLE TO OBTAIN 0.280796673386\n",
      "ETHNICITY_UNKNOWN/NOT SPECIFIED 0.377027731369\n",
      "ETHNICITY_WHITE 0.0133499808739\n",
      "ETHNICITY_WHITE - EASTERN EUROPEAN -0.130598895625\n",
      "ETHNICITY_WHITE - OTHER EUROPEAN -0.22961142562\n",
      "ETHNICITY_WHITE - RUSSIAN -0.505448214325\n"
     ]
    }
   ],
   "source": [
    "# examine 88 the coefficients(including intercept)\n",
    "\n",
    "k=0\n",
    "for i in train_cols:\n",
    "    print(i, logitModel.coef_[0][k])\n",
    "    k += 1\n",
    "    "
   ]
  },
  {
   "cell_type": "code",
   "execution_count": 426,
   "metadata": {
    "collapsed": false
   },
   "outputs": [
    {
     "name": "stdout",
     "output_type": "stream",
     "text": [
      "Training set accuracy rate 0.940087676571\n"
     ]
    }
   ],
   "source": [
    "#predict the training set accuracy rate\n",
    "\n",
    "print(\"Training set accuracy rate\", logitModel.score(data[train_cols], data['is_it_HAI_y']))\n"
   ]
  },
  {
   "cell_type": "code",
   "execution_count": 427,
   "metadata": {
    "collapsed": false
   },
   "outputs": [],
   "source": [
    "#split into training and testing data set\n",
    "\n",
    "split = np.random.rand(len(data)) < 0.5\n",
    "\n",
    "test = data[split]\n",
    "\n",
    "train = data[~split]\n"
   ]
  },
  {
   "cell_type": "code",
   "execution_count": 428,
   "metadata": {
    "collapsed": false
   },
   "outputs": [
    {
     "name": "stdout",
     "output_type": "stream",
     "text": [
      "Training set accuracy rate 0.935211267606\n"
     ]
    }
   ],
   "source": [
    "#training data\n",
    "\n",
    "logitModel = logistic.fit(train[train_cols], train['is_it_HAI_y'])\n",
    "\n",
    "#predict the training set accuracy rate\n",
    "\n",
    "print(\"Training set accuracy rate\", logitModel.score(train[train_cols], train['is_it_HAI_y']))"
   ]
  },
  {
   "cell_type": "code",
   "execution_count": 429,
   "metadata": {
    "collapsed": true
   },
   "outputs": [],
   "source": [
    "def true_positive_rate(confusion_matrix):\n",
    "    \"\"\" Find the true positive rate from the confusion matrix\n",
    "    Parameters\n",
    "    ----------\n",
    "    confusion_matrix : 4 x 4 matrix with true positive, true negative, false positive, false negative\n",
    "\n",
    "    Returns\n",
    "    -------     \n",
    "    float type, with true positive rate\n",
    "\n",
    "    \"\"\"\n",
    "    \n",
    "    true_positive = confusion_matrix[1][1]\n",
    "    condition_positive = confusion_matrix[1][0] + confusion_matrix[1][1]\n",
    "    \n",
    "    return true_positive/condition_positive\n",
    "\n",
    "def false_positive_rate(confusion_matrix):\n",
    "    \"\"\" Find the false positive rate from the confusion matrix\n",
    "    Parameters\n",
    "    ----------\n",
    "    confusion_matrix : 4 x 4 matrix with true positive, true negative, false positive, false negative\n",
    "\n",
    "    Returns\n",
    "    -------     \n",
    "    float type, with false positive rate\n",
    "\n",
    "    \"\"\"\n",
    "    \n",
    "    false_positive = confusion_matrix[0][1]\n",
    "    condition_positive = confusion_matrix[0][0] + confusion_matrix[0][1]\n",
    "    \n",
    "    return false_positive/condition_positive\n",
    "\n"
   ]
  },
  {
   "cell_type": "code",
   "execution_count": 430,
   "metadata": {
    "collapsed": false
   },
   "outputs": [
    {
     "data": {
      "text/plain": [
       "0.0"
      ]
     },
     "execution_count": 430,
     "metadata": {},
     "output_type": "execute_result"
    }
   ],
   "source": [
    "from sklearn.metrics import confusion_matrix\n",
    "\n",
    "confMatrix = confusion_matrix(train['is_it_HAI_y'], logitModel.predict(train[train_cols]))\n",
    "\n",
    "true_positive_rate(confMatrix)\n",
    "false_positive_rate(confMatrix)"
   ]
  },
  {
   "cell_type": "code",
   "execution_count": 431,
   "metadata": {
    "collapsed": false
   },
   "outputs": [
    {
     "name": "stdout",
     "output_type": "stream",
     "text": [
      "Testing set accuracy rate 0.946356275304\n"
     ]
    }
   ],
   "source": [
    "#predict the test set accuracy rate\n",
    "\n",
    "print(\"Testing set accuracy rate\", logitModel.score(test[train_cols], test['is_it_HAI_y']))"
   ]
  },
  {
   "cell_type": "code",
   "execution_count": 432,
   "metadata": {
    "collapsed": false
   },
   "outputs": [
    {
     "data": {
      "text/plain": [
       "0.0"
      ]
     },
     "execution_count": 432,
     "metadata": {},
     "output_type": "execute_result"
    }
   ],
   "source": [
    "from sklearn.metrics import confusion_matrix\n",
    "\n",
    "confMatrix = confusion_matrix(test['is_it_HAI_y'], logitModel.predict(test[train_cols]))\n",
    "\n",
    "true_positive_rate(confMatrix)\n",
    "false_positive_rate(confMatrix)"
   ]
  },
  {
   "cell_type": "markdown",
   "metadata": {},
   "source": [
    "# Preliminary Analysis\n",
    "\n",
    "<img src=\"https://i.stack.imgur.com/CRZGo.png\">\n",
    "\n",
    "Since our testing set accuracy rate is higher than our training set, we can add more features to lower down the test and training error."
   ]
  },
  {
   "cell_type": "markdown",
   "metadata": {},
   "source": [
    "## ROC Curve\n",
    "\n",
    "Need to check with professor regarding the optimal trade off point.\n",
    "\n",
    "The issue here is that by identifying as many people from the HAI group(increasing true posiive rate), more health people will be incorrectly identified(increasing false positive rate). The trade off is that by increasing the true positive rate, we will also increase false positive rate(even though we want the false positive rate to go down). As such, the ROC curve will help us identify a sweet spot, an optimal point.\n",
    "\n"
   ]
  },
  {
   "cell_type": "code",
   "execution_count": 433,
   "metadata": {
    "collapsed": false,
    "scrolled": false
   },
   "outputs": [
    {
     "data": {
      "image/png": "[encoded data removed]",
      "text/plain": [
       "<matplotlib.figure.Figure at 0x116b216a0>"
      ]
     },
     "metadata": {},
     "output_type": "display_data"
    },
    {
     "data": {
      "text/plain": [
       "<ggplot: (295289927)>"
      ]
     },
     "execution_count": 433,
     "metadata": {},
     "output_type": "execute_result"
    }
   ],
   "source": [
    "from sklearn import metrics\n",
    "from ggplot import *\n",
    "\n",
    "preds = logitModel.predict_proba(train[train_cols])[:,1]\n",
    "fpr, tpr, _ = metrics.roc_curve(train['is_it_HAI_y'], preds)\n",
    "\n",
    "df = pd.DataFrame(dict(fpr=fpr, tpr=tpr))\n",
    "ggplot(df, aes(x='fpr', y='tpr')) +\\\n",
    "    geom_line() +\\\n",
    "    geom_abline(linetype='dashed')\n"
   ]
  },
  {
   "cell_type": "markdown",
   "metadata": {},
   "source": [
    "## Finding the optimal probability that corresponds to the sweet spot on the ROC curve"
   ]
  },
  {
   "cell_type": "code",
   "execution_count": 434,
   "metadata": {
    "collapsed": false
   },
   "outputs": [
    {
     "name": "stdout",
     "output_type": "stream",
     "text": [
      "The cutoff probability is 0.0732781898241\n",
      "The true positive rate is 0.514285714286\n",
      "The false positive rate is 0.300502512563\n"
     ]
    },
    {
     "name": "stderr",
     "output_type": "stream",
     "text": [
      "/Users/tankaiwei/anaconda/lib/python3.5/site-packages/ipykernel/__main__.py:22: SettingWithCopyWarning: \n",
      "A value is trying to be set on a copy of a slice from a DataFrame.\n",
      "Try using .loc[row_indexer,col_indexer] = value instead\n",
      "\n",
      "See the caveats in the documentation: http://pandas.pydata.org/pandas-docs/stable/indexing.html#indexing-view-versus-copy\n",
      "/Users/tankaiwei/anaconda/lib/python3.5/site-packages/ipykernel/__main__.py:30: SettingWithCopyWarning: \n",
      "A value is trying to be set on a copy of a slice from a DataFrame.\n",
      "Try using .loc[row_indexer,col_indexer] = value instead\n",
      "\n",
      "See the caveats in the documentation: http://pandas.pydata.org/pandas-docs/stable/indexing.html#indexing-view-versus-copy\n"
     ]
    }
   ],
   "source": [
    "##Need to check the formula\n",
    "\n",
    "def Find_Optimal_Cutoff(target, predicted):\n",
    "    \"\"\" Find the optimal probability cutoff point for a classification model related to event rate\n",
    "    Parameters\n",
    "    ----------\n",
    "    target : Matrix with dependent or target data, where rows are observations\n",
    "\n",
    "    predicted : Matrix with predicted data, where rows are observations\n",
    "\n",
    "    Returns\n",
    "    -------     \n",
    "    list type, with optimal cutoff value\n",
    "\n",
    "    \"\"\"\n",
    "    fpr, tpr, threshold = metrics.roc_curve(target, predicted)\n",
    "    i = np.arange(len(tpr)) \n",
    "    roc = pd.DataFrame({'tf' : pd.Series(tpr-(1-fpr), index=i), 'threshold' : pd.Series(threshold, index=i)})\n",
    "    roc_t = roc.ix[(roc.tf-0).abs().argsort()[:1]]\n",
    "\n",
    "    return list(roc_t['threshold']) \n",
    "\n",
    "# Add prediction probability to dataframe\n",
    "train['pred_proba'] = preds\n",
    "\n",
    "# Find optimal probability threshold\n",
    "threshold = Find_Optimal_Cutoff(train['is_it_HAI_y'],  preds)\n",
    "print(\"The cutoff probability is\", threshold[0])\n",
    "# [0.31762762459360921]\n",
    "\n",
    "# Find prediction to the dataframe applying threshold\n",
    "train['pred'] = train['pred_proba'].map(lambda x: 1 if x > float(threshold[0]) else 0)\n",
    "\n",
    "# Print confusion Matrix\n",
    "from sklearn.metrics import confusion_matrix\n",
    "\n",
    "confMatrix = confusion_matrix(train['is_it_HAI_y'], train['pred'])\n",
    "# array([[175,  98],\n",
    "#        [ 46,  81]])\n",
    "\n",
    "print(\"The true positive rate is\", true_positive_rate(confMatrix))\n",
    "print(\"The false positive rate is\", false_positive_rate(confMatrix))"
   ]
  },
  {
   "cell_type": "markdown",
   "metadata": {},
   "source": [
    "## Finding the sweet spot "
   ]
  },
  {
   "cell_type": "code",
   "execution_count": 435,
   "metadata": {
    "collapsed": false,
    "scrolled": true
   },
   "outputs": [
    {
     "name": "stdout",
     "output_type": "stream",
     "text": [
      "The true positive rate is 0.339622641509\n",
      "The false positive rate is 0.335828877005\n",
      "1.01129671914\n"
     ]
    },
    {
     "name": "stderr",
     "output_type": "stream",
     "text": [
      "/Users/tankaiwei/anaconda/lib/python3.5/site-packages/ipykernel/__main__.py:3: SettingWithCopyWarning: \n",
      "A value is trying to be set on a copy of a slice from a DataFrame.\n",
      "Try using .loc[row_indexer,col_indexer] = value instead\n",
      "\n",
      "See the caveats in the documentation: http://pandas.pydata.org/pandas-docs/stable/indexing.html#indexing-view-versus-copy\n",
      "  app.launch_new_instance()\n",
      "/Users/tankaiwei/anaconda/lib/python3.5/site-packages/ipykernel/__main__.py:6: SettingWithCopyWarning: \n",
      "A value is trying to be set on a copy of a slice from a DataFrame.\n",
      "Try using .loc[row_indexer,col_indexer] = value instead\n",
      "\n",
      "See the caveats in the documentation: http://pandas.pydata.org/pandas-docs/stable/indexing.html#indexing-view-versus-copy\n"
     ]
    }
   ],
   "source": [
    "# Add prediction probability to dataframe\n",
    "preds = logitModel.predict_proba(test[train_cols])[:,1]\n",
    "test['pred_proba'] = preds\n",
    "\n",
    "# Find prediction to the dataframe applying threshold\n",
    "test['pred'] = test['pred_proba'].map(lambda x: 1 if x > float(0.0732781898241) else 0)\n",
    "\n",
    "# Print confusion Matrix\n",
    "from sklearn.metrics import confusion_matrix\n",
    "\n",
    "confMatrix = confusion_matrix(test['is_it_HAI_y'], test['pred'])\n",
    "# array([[175,  98],\n",
    "#        [ 46,  81]])\n",
    "\n",
    "print(\"The true positive rate is\", true_positive_rate(confMatrix))\n",
    "print(\"The false positive rate is\", false_positive_rate(confMatrix))\n",
    "print(true_positive_rate(confMatrix)/false_positive_rate(confMatrix))"
   ]
  },
  {
   "cell_type": "markdown",
   "metadata": {},
   "source": [
    "## Cost sensitive learning"
   ]
  },
  {
   "cell_type": "code",
   "execution_count": 491,
   "metadata": {
    "collapsed": false
   },
   "outputs": [],
   "source": [
    "#class weight say {0:.1, 1:.9}\n",
    "\n",
    "#training data\n",
    "\n",
    "logistic1 = LogisticRegression(class_weight= {1: 11.64})\n",
    "\n",
    "logitModel1 = logistic1.fit(train[train_cols], train['is_it_HAI_y'])\n"
   ]
  },
  {
   "cell_type": "code",
   "execution_count": 493,
   "metadata": {
    "collapsed": false
   },
   "outputs": [
    {
     "name": "stdout",
     "output_type": "stream",
     "text": [
      "The true positive rate is 0.542857142857 The false positive rate is 0.298492462312\n"
     ]
    }
   ],
   "source": [
    "confMatrix = confusion_matrix(train['is_it_HAI_y'], logitModel1.predict(train[train_cols]))\n",
    "\n",
    "print(\"The true positive rate is\", true_positive_rate(confMatrix), \"The false positive rate is\", false_positive_rate(confMatrix))"
   ]
  },
  {
   "cell_type": "code",
   "execution_count": null,
   "metadata": {
    "collapsed": true
   },
   "outputs": [],
   "source": [
    "confMatrix = confusion_matrix(train['is_it_HAI_y'], logitModel1.predict(train[train_cols]))\n",
    "\n",
    "print(\"The true positive rate is\", true_positive_rate(confMatrix), \"The false positive rate is\", false_positive_rate(confMatrix))"
   ]
  },
  {
   "cell_type": "markdown",
   "metadata": {},
   "source": [
    "we can therefore use the above one which is ROC cuve"
   ]
  },
  {
   "cell_type": "markdown",
   "metadata": {},
   "source": [
    "# Support Vector Machine linear"
   ]
  },
  {
   "cell_type": "code",
   "execution_count": 496,
   "metadata": {
    "collapsed": true
   },
   "outputs": [],
   "source": [
    "from sklearn import svm"
   ]
  },
  {
   "cell_type": "code",
   "execution_count": 504,
   "metadata": {
    "collapsed": false
   },
   "outputs": [
    {
     "data": {
      "text/plain": [
       "SVC(C=1.0, cache_size=200, class_weight=None, coef0=0.0,\n",
       "  decision_function_shape=None, degree=3, gamma='auto', kernel='linear',\n",
       "  max_iter=-1, probability=False, random_state=None, shrinking=True,\n",
       "  tol=0.001, verbose=False)"
      ]
     },
     "execution_count": 504,
     "metadata": {},
     "output_type": "execute_result"
    }
   ],
   "source": [
    "clf = svm.SVC(kernel=\"linear\") \n",
    "clf.fit(train[train_cols], train['is_it_HAI_y'])"
   ]
  },
  {
   "cell_type": "code",
   "execution_count": 507,
   "metadata": {
    "collapsed": false,
    "scrolled": true
   },
   "outputs": [
    {
     "name": "stdout",
     "output_type": "stream",
     "text": [
      "The train true positive rate is 0.0428571428571 The train false positive rate is 0.0\n"
     ]
    }
   ],
   "source": [
    "confMatrix = confusion_matrix(train['is_it_HAI_y'], clf.predict(train[train_cols]))\n",
    "print(\"The train true positive rate is\", true_positive_rate(confMatrix), \"The train false positive rate is\", false_positive_rate(confMatrix))"
   ]
  },
  {
   "cell_type": "code",
   "execution_count": 508,
   "metadata": {
    "collapsed": false
   },
   "outputs": [
    {
     "name": "stdout",
     "output_type": "stream",
     "text": [
      "The test true positive rate is 0.0 The test false positive rate is 0.0\n"
     ]
    }
   ],
   "source": [
    "confMatrix = confusion_matrix(test['is_it_HAI_y'], clf.predict(test[train_cols]))\n",
    "print(\"The test true positive rate is\", true_positive_rate(confMatrix), \"The test false positive rate is\", false_positive_rate(confMatrix))"
   ]
  },
  {
   "cell_type": "markdown",
   "metadata": {},
   "source": [
    "# Support Vector Machine gaussian"
   ]
  },
  {
   "cell_type": "code",
   "execution_count": 509,
   "metadata": {
    "collapsed": false
   },
   "outputs": [
    {
     "data": {
      "text/plain": [
       "0.0"
      ]
     },
     "execution_count": 509,
     "metadata": {},
     "output_type": "execute_result"
    }
   ],
   "source": [
    "clf = svm.SVC(kernel=\"rbf\") \n",
    "clf.fit(train[train_cols], train['is_it_HAI_y'])\n",
    "confMatrix = confusion_matrix(train['is_it_HAI_y'], clf.predict(train[train_cols]))\n",
    "true_positive_rate(confMatrix)"
   ]
  },
  {
   "cell_type": "code",
   "execution_count": 510,
   "metadata": {
    "collapsed": false
   },
   "outputs": [
    {
     "name": "stdout",
     "output_type": "stream",
     "text": [
      "The train true positive rate is 0.0 The train false positive rate is 0.0\n",
      "The test true positive rate is 0.0 The test false positive rate is 0.0\n"
     ]
    }
   ],
   "source": [
    "confMatrix = confusion_matrix(train['is_it_HAI_y'], clf.predict(train[train_cols]))\n",
    "print(\"The train true positive rate is\", true_positive_rate(confMatrix), \"The train false positive rate is\", false_positive_rate(confMatrix))\n",
    "confMatrix = confusion_matrix(test['is_it_HAI_y'], clf.predict(test[train_cols]))\n",
    "print(\"The test true positive rate is\", true_positive_rate(confMatrix), \"The test false positive rate is\", false_positive_rate(confMatrix))"
   ]
  },
  {
   "cell_type": "markdown",
   "metadata": {},
   "source": [
    "# Support Vector Machine gaussian kernel with class weight"
   ]
  },
  {
   "cell_type": "code",
   "execution_count": 511,
   "metadata": {
    "collapsed": false
   },
   "outputs": [],
   "source": [
    "i = 0\n",
    "true = np.zeros(10)\n",
    "false = np.zeros(10)\n",
    " \n",
    "while i < 10: \n",
    "    clf = svm.SVC(kernel=\"rbf\", class_weight= {1:(12 + i)}) \n",
    "    clf.fit(train[train_cols], train['is_it_HAI_y'])\n",
    "    confMatrix = confusion_matrix(train['is_it_HAI_y'], clf.predict(train[train_cols]))\n",
    "    true[i] = true_positive_rate(confMatrix)\n",
    "    false[i] = false_positive_rate(confMatrix)\n",
    "    i = i + 1\n",
    "    \n"
   ]
  },
  {
   "cell_type": "code",
   "execution_count": 512,
   "metadata": {
    "collapsed": false
   },
   "outputs": [
    {
     "data": {
      "image/png": "[encoded data removed]",
      "text/plain": [
       "<matplotlib.figure.Figure at 0x11b9e0b38>"
      ]
     },
     "metadata": {},
     "output_type": "display_data"
    }
   ],
   "source": [
    "plt.figure()\n",
    "plt.plot(true, false)\n",
    "plt.show()"
   ]
  },
  {
   "cell_type": "code",
   "execution_count": 513,
   "metadata": {
    "collapsed": false
   },
   "outputs": [],
   "source": [
    "# find the points that is closest to (1,1)\n",
    "\n",
    "dist = np.zeros(10)\n",
    "\n",
    "i = 0\n",
    "while i < 10:\n",
    "    x_difference = (false[i] - 0)**2\n",
    "    y_difference = (true[i] - 1)**2\n",
    "    dist[i] = math.sqrt(x_difference + y_difference)\n",
    "    i = i + 1"
   ]
  },
  {
   "cell_type": "code",
   "execution_count": 521,
   "metadata": {
    "collapsed": false
   },
   "outputs": [
    {
     "data": {
      "text/plain": [
       "array([ 0.83172522,  0.62358549,  0.61843964,  0.60833391,  0.59998506,\n",
       "        0.62313128,  0.78528759,  0.83426736,  0.9678392 ,  0.97688442])"
      ]
     },
     "execution_count": 521,
     "metadata": {},
     "output_type": "execute_result"
    }
   ],
   "source": [
    "dist"
   ]
  },
  {
   "cell_type": "code",
   "execution_count": 522,
   "metadata": {
    "collapsed": false
   },
   "outputs": [
    {
     "name": "stdout",
     "output_type": "stream",
     "text": [
      "0.7 0.51959798995\n"
     ]
    }
   ],
   "source": [
    "print(true[4], false[4])"
   ]
  },
  {
   "cell_type": "markdown",
   "metadata": {},
   "source": [
    "# Therefore, i will pick index 4 as my final model, the weight will be 16 for class 1 "
   ]
  },
  {
   "cell_type": "code",
   "execution_count": 523,
   "metadata": {
    "collapsed": false
   },
   "outputs": [
    {
     "data": {
      "text/plain": [
       "SVC(C=1.0, cache_size=200, class_weight={1: 16}, coef0=0.0,\n",
       "  decision_function_shape=None, degree=3, gamma='auto', kernel='rbf',\n",
       "  max_iter=-1, probability=False, random_state=None, shrinking=True,\n",
       "  tol=0.001, verbose=False)"
      ]
     },
     "execution_count": 523,
     "metadata": {},
     "output_type": "execute_result"
    }
   ],
   "source": [
    "clf = svm.SVC(kernel=\"rbf\", class_weight= {1:16}) \n",
    "clf.fit(train[train_cols], train['is_it_HAI_y'])"
   ]
  },
  {
   "cell_type": "code",
   "execution_count": 524,
   "metadata": {
    "collapsed": false
   },
   "outputs": [
    {
     "name": "stdout",
     "output_type": "stream",
     "text": [
      "The train true positive rate is 0.7 The train false positive rate is 0.51959798995\n",
      "The test true positive rate is 0.528301886792 The test false positive rate is 0.534759358289\n"
     ]
    }
   ],
   "source": [
    "confMatrix = confusion_matrix(train['is_it_HAI_y'], clf.predict(train[train_cols]))\n",
    "print(\"The train true positive rate is\", true_positive_rate(confMatrix), \"The train false positive rate is\", false_positive_rate(confMatrix))\n",
    "confMatrix = confusion_matrix(test['is_it_HAI_y'], clf.predict(test[train_cols]))\n",
    "print(\"The test true positive rate is\", true_positive_rate(confMatrix), \"The test false positive rate is\", false_positive_rate(confMatrix))"
   ]
  },
  {
   "cell_type": "markdown",
   "metadata": {},
   "source": [
    "# Support Vector Machine linear kernel with class weight"
   ]
  },
  {
   "cell_type": "code",
   "execution_count": 525,
   "metadata": {
    "collapsed": false
   },
   "outputs": [],
   "source": [
    "i = 0\n",
    "true = np.zeros(10)\n",
    "false = np.zeros(10)\n",
    " \n",
    "while i < 10: \n",
    "    clf = svm.SVC(kernel=\"linear\", class_weight= {1:(12 + i)}) \n",
    "    clf.fit(train[train_cols], train['is_it_HAI_y'])\n",
    "    confMatrix = confusion_matrix(train['is_it_HAI_y'], clf.predict(train[train_cols]))\n",
    "    true[i] = true_positive_rate(confMatrix)\n",
    "    false[i] = false_positive_rate(confMatrix)\n",
    "    i = i + 1\n",
    "    "
   ]
  },
  {
   "cell_type": "code",
   "execution_count": 526,
   "metadata": {
    "collapsed": false
   },
   "outputs": [
    {
     "data": {
      "image/png": "[encoded data removed]",
      "text/plain": [
       "<matplotlib.figure.Figure at 0x121f1f550>"
      ]
     },
     "metadata": {},
     "output_type": "display_data"
    }
   ],
   "source": [
    "plt.figure()\n",
    "plt.plot(true, false)\n",
    "plt.show()"
   ]
  },
  {
   "cell_type": "code",
   "execution_count": 527,
   "metadata": {
    "collapsed": false
   },
   "outputs": [],
   "source": [
    "# find the points that is closest to (1,1)\n",
    "\n",
    "dist = np.zeros(10)\n",
    "\n",
    "i = 0\n",
    "while i < 10:\n",
    "    x_difference = (false[i] - 0)**2\n",
    "    y_difference = (true[i] - 1)**2\n",
    "    dist[i] = math.sqrt(x_difference + y_difference)\n",
    "    i = i + 1\n"
   ]
  },
  {
   "cell_type": "code",
   "execution_count": 528,
   "metadata": {
    "collapsed": false
   },
   "outputs": [
    {
     "data": {
      "text/plain": [
       "array([ 0.50727636,  0.51425008,  0.50888745,  0.52901269,  0.52989122,\n",
       "        0.62699204,  0.62719619,  0.62919321,  0.62919321,  0.62919321])"
      ]
     },
     "execution_count": 528,
     "metadata": {},
     "output_type": "execute_result"
    }
   ],
   "source": [
    "dist"
   ]
  },
  {
   "cell_type": "code",
   "execution_count": 532,
   "metadata": {
    "collapsed": false
   },
   "outputs": [
    {
     "name": "stdout",
     "output_type": "stream",
     "text": [
      "0.657142857143 0.373869346734\n"
     ]
    }
   ],
   "source": [
    "print(true[0], false[0])"
   ]
  },
  {
   "cell_type": "markdown",
   "metadata": {},
   "source": [
    "# Therefore, i will pick index 0 as my final model, the weight will be 12 for class 1 "
   ]
  },
  {
   "cell_type": "code",
   "execution_count": 533,
   "metadata": {
    "collapsed": false
   },
   "outputs": [
    {
     "name": "stdout",
     "output_type": "stream",
     "text": [
      "The train true positive rate is 0.657142857143 The train false positive rate is 0.373869346734\n",
      "The test true positive rate is 0.377358490566 The test false positive rate is 0.397860962567\n"
     ]
    }
   ],
   "source": [
    "clf = svm.SVC(kernel=\"linear\", class_weight= {1:12}) \n",
    "clf.fit(train[train_cols], train['is_it_HAI_y'])\n",
    "confMatrix = confusion_matrix(train['is_it_HAI_y'], clf.predict(train[train_cols]))\n",
    "print(\"The train true positive rate is\", true_positive_rate(confMatrix), \"The train false positive rate is\", false_positive_rate(confMatrix))\n",
    "confMatrix = confusion_matrix(test['is_it_HAI_y'], clf.predict(test[train_cols]))\n",
    "print(\"The test true positive rate is\", true_positive_rate(confMatrix), \"The test false positive rate is\", false_positive_rate(confMatrix))"
   ]
  },
  {
   "cell_type": "markdown",
   "metadata": {},
   "source": [
    "# Random Forest"
   ]
  },
  {
   "cell_type": "code",
   "execution_count": 534,
   "metadata": {
    "collapsed": true
   },
   "outputs": [],
   "source": [
    "# Load scikit's random forest classifier library\n",
    "from sklearn.ensemble import RandomForestClassifier"
   ]
  },
  {
   "cell_type": "code",
   "execution_count": 543,
   "metadata": {
    "collapsed": false
   },
   "outputs": [
    {
     "data": {
      "text/plain": [
       "RandomForestClassifier(bootstrap=True, class_weight=None, criterion='gini',\n",
       "            max_depth=None, max_features='auto', max_leaf_nodes=None,\n",
       "            min_samples_leaf=1, min_samples_split=2,\n",
       "            min_weight_fraction_leaf=0.0, n_estimators=10, n_jobs=1,\n",
       "            oob_score=False, random_state=None, verbose=0,\n",
       "            warm_start=False)"
      ]
     },
     "execution_count": 543,
     "metadata": {},
     "output_type": "execute_result"
    }
   ],
   "source": [
    "# Create a random forest classifier. By convention, clf means 'classifier'\n",
    "clf = RandomForestClassifier()\n",
    "\n",
    "# Train the classifier to take the training features and learn how they relate\n",
    "# to the training y (the species)\n",
    "clf.fit(train[train_cols], train['is_it_HAI_y'])"
   ]
  },
  {
   "cell_type": "code",
   "execution_count": 544,
   "metadata": {
    "collapsed": false
   },
   "outputs": [
    {
     "name": "stdout",
     "output_type": "stream",
     "text": [
      "True Positive Rate 0.214285714286 False Positive Rate 0.00301507537688\n"
     ]
    }
   ],
   "source": [
    "confMatrix = confusion_matrix(train['is_it_HAI_y'], clf.predict(train[train_cols]))\n",
    "\n",
    "#looking into the dist array, we find that the best performing metrics is when i is 9 with the following true positive \n",
    "# false positive rate\n",
    "\n",
    "print(\"True Positive Rate\", true_positive_rate(confMatrix), \"False Positive Rate\", false_positive_rate(confMatrix))"
   ]
  },
  {
   "cell_type": "code",
   "execution_count": 545,
   "metadata": {
    "collapsed": false
   },
   "outputs": [
    {
     "name": "stdout",
     "output_type": "stream",
     "text": [
      "True Positive Rate 0.0188679245283 False Positive Rate 0.00320855614973\n"
     ]
    }
   ],
   "source": [
    "confMatrix = confusion_matrix(test['is_it_HAI_y'], clf.predict(test[train_cols]))\n",
    "\n",
    "#looking into the dist array, we find that the best performing metrics is when i is 9 with the following true positive \n",
    "# false positive rate\n",
    "\n",
    "print(\"True Positive Rate\", true_positive_rate(confMatrix), \"False Positive Rate\", false_positive_rate(confMatrix))"
   ]
  },
  {
   "cell_type": "markdown",
   "metadata": {},
   "source": [
    "# Weighted Random Forest"
   ]
  },
  {
   "cell_type": "code",
   "execution_count": 538,
   "metadata": {
    "collapsed": true
   },
   "outputs": [],
   "source": [
    "#determine the best trade off of tpr and fpr \n",
    "\n",
    "count = 0\n",
    "true = np.zeros(10)\n",
    "false = np.zeros(10)\n",
    " \n",
    "\n",
    "while count < 10:\n",
    "\n",
    "    sample_weight = np.array([1 if i == 0 else 10 + count for i in train['is_it_HAI_y']])\n",
    "\n",
    "    # Create a random forest classifier. By convention, clf means 'classifier'\n",
    "    clf = RandomForestClassifier()\n",
    "\n",
    "    # Train the classifier to take the training features and learn how they relate\n",
    "    # to the training y (the species)\n",
    "    clf.fit(train[train_cols], train['is_it_HAI_y'], sample_weight= sample_weight)\n",
    "\n",
    "    confMatrix = confusion_matrix(train['is_it_HAI_y'], clf.predict(train[train_cols]))\n",
    "\n",
    "    true[count] = true_positive_rate(confMatrix)\n",
    "\n",
    "    false[count] = false_positive_rate(confMatrix)\n",
    "\n",
    "    count = count + 1"
   ]
  },
  {
   "cell_type": "code",
   "execution_count": 539,
   "metadata": {
    "collapsed": true
   },
   "outputs": [],
   "source": [
    "# find the points that is closest to (1,1)\n",
    "\n",
    "dist = np.zeros(10)\n",
    "\n",
    "i = 0\n",
    "while i < 10:\n",
    "    x_difference = (false[i] - 0)**2\n",
    "    y_difference = (true[i] - 1)**2\n",
    "    dist[i] = math.sqrt(x_difference + y_difference)\n",
    "    i = i + 1"
   ]
  },
  {
   "cell_type": "code",
   "execution_count": 540,
   "metadata": {
    "collapsed": false
   },
   "outputs": [
    {
     "data": {
      "text/plain": [
       "array([ 0.52561518,  0.40883985,  0.38494201,  0.36375019,  0.42226902,\n",
       "        0.41301922,  0.39856803,  0.36020408,  0.38092344,  0.37781408])"
      ]
     },
     "execution_count": 540,
     "metadata": {},
     "output_type": "execute_result"
    }
   ],
   "source": [
    "dist"
   ]
  },
  {
   "cell_type": "code",
   "execution_count": 541,
   "metadata": {
    "collapsed": false
   },
   "outputs": [
    {
     "name": "stdout",
     "output_type": "stream",
     "text": [
      "True Positive Rate 0.771428571429 False Positive Rate 0.278391959799\n"
     ]
    }
   ],
   "source": [
    "print(\"True Positive Rate\", true[7], \"False Positive Rate\", false[7])"
   ]
  },
  {
   "cell_type": "markdown",
   "metadata": {},
   "source": [
    "# Therefore index 7 is the best, I will then pick 17 as the weight for the testing set"
   ]
  },
  {
   "cell_type": "code",
   "execution_count": 542,
   "metadata": {
    "collapsed": false
   },
   "outputs": [
    {
     "name": "stdout",
     "output_type": "stream",
     "text": [
      "True Positive Rate 0.150943396226 False Positive Rate 0.259893048128\n"
     ]
    }
   ],
   "source": [
    "sample_weight = np.array([1 if i == 0 else 17 for i in train['is_it_HAI_y']])\n",
    "clf = RandomForestClassifier()\n",
    "clf.fit(train[train_cols], train['is_it_HAI_y'], sample_weight= sample_weight)\n",
    "confMatrix = confusion_matrix(test['is_it_HAI_y'], clf.predict(test[train_cols]))\n",
    "\n",
    "print(\"True Positive Rate\", true_positive_rate(confMatrix), \"False Positive Rate\", false_positive_rate(confMatrix))"
   ]
  }
 ],
 "metadata": {
  "anaconda-cloud": {},
  "kernelspec": {
   "display_name": "Python [default]",
   "language": "python",
   "name": "python3"
  },
  "language_info": {
   "codemirror_mode": {
    "name": "ipython",
    "version": 3
   },
   "file_extension": ".py",
   "mimetype": "text/x-python",
   "name": "python",
   "nbconvert_exporter": "python",
   "pygments_lexer": "ipython3",
   "version": "3.5.2"
  }
 },
 "nbformat": 4,
 "nbformat_minor": 1
}
