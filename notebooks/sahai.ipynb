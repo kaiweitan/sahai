{
 "cells": [
  {
   "cell_type": "code",
   "execution_count": 1,
   "metadata": {
    "collapsed": true
   },
   "outputs": [],
   "source": [
    "import numpy as np\n",
    "import pandas as pd\n",
    "import statsmodels.api as sm"
   ]
  },
  {
   "cell_type": "code",
   "execution_count": 2,
   "metadata": {
    "collapsed": false
   },
   "outputs": [],
   "source": [
    "dfAdmissions = pd.read_csv(\"./data/ADMISSIONS.csv\")\n",
    "\n",
    "dfDiagnoses = pd.read_csv(\"./data/DIAGNOSES_ICD.csv\")\n",
    "\n",
    "dfTitle = pd.read_csv(\"./data/d_icd_diagnoses.csv\")\n",
    "\n",
    "df = pd.merge(dfAdmissions, dfDiagnoses, how=\"inner\", on=['SUBJECT_ID'])\n",
    "\n",
    "dfWithTtitle = pd.merge(df, dfTitle, how=\"left\", on=['ICD9_CODE'])"
   ]
  },
  {
   "cell_type": "code",
   "execution_count": 3,
   "metadata": {
    "collapsed": false,
    "scrolled": false
   },
   "outputs": [],
   "source": [
    "#creating vector of HAI related to pneumonia, and HAP\n",
    "\n",
    "hcapCode = [\"48230\",\"48231\",\"48232\",\"48233\", \"48234\", \"48235\", \"48236\", \"48237\", \"48238\", \n",
    "            \"48239\", \"48240\", \"4830\", \"4822\", \"4820\", \"48240\", \"48241\", \"48242\", \"48243\",\n",
    "           \"48244\", \"48245\", \"48246\", \"48247\", \"48248\", \"48249\", \"48282\", \"48281\", \"48283\",\n",
    "           \"48284\", \"48289\"]\n",
    "\n",
    "#creating boolean values that are HAI related to pneumonia, and HAP\n",
    "df['is_it_HAI'] = df['ICD9_CODE'].map(lambda x: any(x == i for i in hcapCode)) "
   ]
  },
  {
   "cell_type": "code",
   "execution_count": 4,
   "metadata": {
    "collapsed": false
   },
   "outputs": [],
   "source": [
    "#selecting the relevant variables for logistic regression\n",
    "dfFinal = df[['INSURANCE','LANGUAGE','RELIGION','MARITAL_STATUS','ETHNICITY','is_it_HAI']]\n",
    "\n",
    "#drop na values\n",
    "dfFinal = dfFinal.dropna()"
   ]
  },
  {
   "cell_type": "code",
   "execution_count": 101,
   "metadata": {
    "collapsed": false
   },
   "outputs": [],
   "source": [
    "#create dummy variables\n",
    "\n",
    "dummy_insurance = pd.get_dummies(dfFinal['INSURANCE'], prefix='INSURANCE')\n",
    "dummy_language = pd.get_dummies(dfFinal['LANGUAGE'], prefix = 'LANGUAGE')\n",
    "dummy_religion = pd.get_dummies(dfFinal['RELIGION'], prefix = 'RELIGION')\n",
    "dummy_maritalStatus = pd.get_dummies(dfFinal['MARITAL_STATUS'], prefix = 'MARITAL_STATUS')\n",
    "dummy_ethnicity = pd.get_dummies(dfFinal['ETHNICITY'], prefix = 'ETHNICITY')\n",
    "\n",
    "#create a new data frame to fit the dummy variables\n",
    "colsToKeep = ['is_it_HAI']\n",
    "data = dfFinal[colsToKeep].join(dummy_insurance.ix[:, 'INSURANCE_Medicaid':])\n",
    "data = data.join(dummy_language.ix[:, 'LANGUAGE_* FU':])\n",
    "data = data.join(dummy_religion.ix[:, 'RELIGION_BAPTIST':])\n",
    "data = data.join(dummy_maritalStatus.ix[:, 'MARITAL_STATUS_LIFE PARTNER':])\n",
    "data = data.join(dummy_ethnicity.ix[:, 'ETHNICITY_AMERICAN INDIAN/ALASKA NATIVE FEDERALLY RECOGNIZED TRIBE':])"
   ]
  },
  {
   "cell_type": "code",
   "execution_count": 100,
   "metadata": {
    "collapsed": false
   },
   "outputs": [
    {
     "data": {
      "text/plain": [
       "True"
      ]
     },
     "execution_count": 100,
     "metadata": {},
     "output_type": "execute_result"
    }
   ],
   "source": [
    "#"
   ]
  },
  {
   "cell_type": "code",
   "execution_count": 85,
   "metadata": {
    "collapsed": false
   },
   "outputs": [],
   "source": [
    "#logistic regression\n",
    "\n",
    "from sklearn.linear_model import LogisticRegression\n",
    "\n",
    "logistic = LogisticRegression()\n",
    "\n",
    "train_cols = data.columns[1:]\n",
    "\n",
    "logitModel = logistic.fit(data[train_cols], data['is_it_HAI'])\n",
    "\n"
   ]
  },
  {
   "cell_type": "code",
   "execution_count": 87,
   "metadata": {
    "collapsed": false
   },
   "outputs": [
    {
     "name": "stdout",
     "output_type": "stream",
     "text": [
      "INSURANCE_Medicaid 0.389365642157\n",
      "INSURANCE_Medicare 0.239442967801\n",
      "INSURANCE_Private 0.115903944306\n",
      "INSURANCE_Self Pay -0.079745453864\n",
      "LANGUAGE_* FU 0.898709275895\n",
      "LANGUAGE_** T -0.0593143008898\n",
      "LANGUAGE_**SH -0.340806430029\n",
      "LANGUAGE_**TO -0.43590454429\n",
      "LANGUAGE_*AMH -0.0168175581014\n",
      "LANGUAGE_*ARA -0.0200139740751\n",
      "LANGUAGE_*ARM 0.409120563408\n",
      "LANGUAGE_*BEN -0.294031674187\n",
      "LANGUAGE_*BOS -0.0182444142937\n",
      "LANGUAGE_*BUL -0.400477486328\n",
      "LANGUAGE_*BUR -0.567960703646\n",
      "LANGUAGE_*CAN -0.246368265223\n",
      "LANGUAGE_*CDI -0.155649627844\n",
      "LANGUAGE_*CHI 1.48875346471\n",
      "LANGUAGE_*CRE -0.0116915592681\n",
      "LANGUAGE_*DEA -0.0688876918263\n",
      "LANGUAGE_*DUT -0.0709473045152\n",
      "LANGUAGE_*FAR -0.205187280335\n",
      "LANGUAGE_*FIL -0.110107195927\n",
      "LANGUAGE_*FUL -0.120614350442\n",
      "LANGUAGE_*GUJ -0.361714690305\n",
      "LANGUAGE_*HUN -1.23882525017\n",
      "LANGUAGE_*IBO -0.173788978251\n",
      "LANGUAGE_*KHM -0.104837711882\n",
      "LANGUAGE_*LEB -0.0450469331245\n",
      "LANGUAGE_*LIT -0.0495212359686\n",
      "LANGUAGE_*MAN 1.48089585224\n",
      "LANGUAGE_*MOR -0.534204074882\n",
      "LANGUAGE_*NEP -0.0861797424338\n",
      "LANGUAGE_*PER -0.165231934506\n",
      "LANGUAGE_*PHI -0.0399852655024\n",
      "LANGUAGE_*PUN -0.135142405009\n",
      "LANGUAGE_*RUS -0.057779854118\n",
      "LANGUAGE_*TAM -0.00402029814534\n",
      "LANGUAGE_*TEL -0.00924358628245\n",
      "LANGUAGE_*TOI -0.114912944136\n",
      "LANGUAGE_*TOY 1.37950965635\n",
      "LANGUAGE_*URD 0.200374264494\n",
      "LANGUAGE_*YID -0.856935784253\n",
      "LANGUAGE_*YOR -0.0201449579203\n",
      "LANGUAGE_ALBA 0.342382365428\n",
      "LANGUAGE_AMER -0.240486363863\n",
      "LANGUAGE_ARAB 0.704308952299\n",
      "LANGUAGE_BENG 1.05456156141\n",
      "LANGUAGE_CAMB 0.291914349276\n",
      "LANGUAGE_CANT -0.647644047093\n",
      "LANGUAGE_CAPE 0.244196210366\n",
      "LANGUAGE_ENGL -0.650971525869\n",
      "LANGUAGE_ETHI 1.85497811317\n",
      "LANGUAGE_FREN 0.065252267605\n",
      "LANGUAGE_GERM -0.0426555844179\n",
      "LANGUAGE_GREE 0.0489482316025\n",
      "LANGUAGE_HAIT -0.201835165825\n",
      "LANGUAGE_HIND -0.410697484549\n",
      "LANGUAGE_ITAL 0.119770605084\n",
      "LANGUAGE_JAPA -0.10664176112\n",
      "LANGUAGE_KORE 0.129904647793\n",
      "LANGUAGE_LAOT -0.30915847214\n",
      "LANGUAGE_MAND -0.725169523512\n",
      "LANGUAGE_PERS -0.623546391007\n",
      "LANGUAGE_POLI 0.290183005656\n",
      "LANGUAGE_PORT -0.283999813881\n",
      "LANGUAGE_PTUN -0.197946084491\n",
      "LANGUAGE_RUSS -0.729999981064\n",
      "LANGUAGE_SOMA -1.19605858304\n",
      "LANGUAGE_SPAN -0.480454778537\n",
      "LANGUAGE_TAGA -0.210227292924\n",
      "LANGUAGE_THAI -0.543589587843\n",
      "LANGUAGE_TURK -0.0784283952768\n",
      "LANGUAGE_URDU -1.32704368853\n",
      "LANGUAGE_VIET -0.568587520547\n",
      "RELIGION_BAPTIST -0.0156544363618\n",
      "RELIGION_BUDDHIST -0.339449532517\n",
      "RELIGION_CATHOLIC -0.185961516415\n",
      "RELIGION_CHRISTIAN SCIENTIST -0.411975971045\n",
      "RELIGION_EPISCOPALIAN -0.793402106774\n",
      "RELIGION_GREEK ORTHODOX -0.0408217785608\n",
      "RELIGION_HEBREW -0.0427606063191\n",
      "RELIGION_HINDU -0.75010416594\n",
      "RELIGION_JEHOVAH'S WITNESS -0.87606927676\n",
      "RELIGION_JEWISH -0.336112901423\n",
      "RELIGION_MUSLIM 0.823559235493\n",
      "RELIGION_NOT SPECIFIED -0.548451373677\n",
      "RELIGION_OTHER -0.256927490352\n",
      "RELIGION_PROTESTANT QUAKER -0.367291758532\n",
      "RELIGION_ROMANIAN EAST. ORTH 0.249891006448\n",
      "RELIGION_UNITARIAN-UNIVERSALIST -1.82861296681\n",
      "RELIGION_UNOBTAINABLE 0.0104871039206\n",
      "MARITAL_STATUS_LIFE PARTNER 0.139541591474\n",
      "MARITAL_STATUS_MARRIED 0.152770751243\n",
      "MARITAL_STATUS_SEPARATED -0.894308919546\n",
      "MARITAL_STATUS_SINGLE 0.0140688619947\n",
      "MARITAL_STATUS_UNKNOWN (DEFAULT) -0.517051720095\n",
      "MARITAL_STATUS_WIDOWED -0.416520202058\n",
      "ETHNICITY_AMERICAN INDIAN/ALASKA NATIVE FEDERALLY RECOGNIZED TRIBE -0.290018546115\n",
      "ETHNICITY_ASIAN 0.950450412656\n",
      "ETHNICITY_ASIAN - ASIAN INDIAN -2.0121707229\n",
      "ETHNICITY_ASIAN - CAMBODIAN -0.940276779928\n",
      "ETHNICITY_ASIAN - CHINESE 0.813696819602\n",
      "ETHNICITY_ASIAN - FILIPINO -0.265344100909\n",
      "ETHNICITY_ASIAN - JAPANESE -0.0721319215183\n",
      "ETHNICITY_ASIAN - KOREAN -0.162049463322\n",
      "ETHNICITY_ASIAN - OTHER 0.479429420066\n",
      "ETHNICITY_ASIAN - THAI -0.0492363436545\n",
      "ETHNICITY_ASIAN - VIETNAMESE -0.749124002561\n",
      "ETHNICITY_BLACK/AFRICAN -0.822462414842\n",
      "ETHNICITY_BLACK/AFRICAN AMERICAN 0.0144421391916\n",
      "ETHNICITY_BLACK/CAPE VERDEAN -0.813445024979\n",
      "ETHNICITY_BLACK/HAITIAN -0.761180558104\n",
      "ETHNICITY_CARIBBEAN ISLAND -0.124644088849\n",
      "ETHNICITY_HISPANIC OR LATINO 0.430217549852\n",
      "ETHNICITY_HISPANIC/LATINO - CENTRAL AMERICAN (OTHER) -0.288792965536\n",
      "ETHNICITY_HISPANIC/LATINO - COLOMBIAN -0.108422388076\n",
      "ETHNICITY_HISPANIC/LATINO - CUBAN -0.140333376432\n",
      "ETHNICITY_HISPANIC/LATINO - DOMINICAN -0.528426827091\n",
      "ETHNICITY_HISPANIC/LATINO - GUATEMALAN -1.08915587179\n",
      "ETHNICITY_HISPANIC/LATINO - HONDURAN -0.0712533664843\n",
      "ETHNICITY_HISPANIC/LATINO - MEXICAN -0.175221515098\n",
      "ETHNICITY_HISPANIC/LATINO - PUERTO RICAN 0.865469488436\n",
      "ETHNICITY_HISPANIC/LATINO - SALVADORAN -0.436558249138\n",
      "ETHNICITY_MIDDLE EASTERN -1.12568581486\n",
      "ETHNICITY_MULTI RACE ETHNICITY -0.640916676778\n",
      "ETHNICITY_NATIVE HAWAIIAN OR OTHER PACIFIC ISLANDER -0.2342896809\n",
      "ETHNICITY_OTHER 0.356599050934\n",
      "ETHNICITY_PATIENT DECLINED TO ANSWER 1.30646098938\n",
      "ETHNICITY_PORTUGUESE 0.648962426185\n",
      "ETHNICITY_SOUTH AMERICAN -0.0960792594617\n",
      "ETHNICITY_UNABLE TO OBTAIN 0.0947172951557\n",
      "ETHNICITY_UNKNOWN/NOT SPECIFIED 1.05513032342\n",
      "ETHNICITY_WHITE 0.721877009606\n",
      "ETHNICITY_WHITE - BRAZILIAN -0.92847712336\n",
      "ETHNICITY_WHITE - EASTERN EUROPEAN -0.441162835657\n",
      "ETHNICITY_WHITE - OTHER EUROPEAN -0.0422403147664\n",
      "ETHNICITY_WHITE - RUSSIAN 0.260230875194\n"
     ]
    }
   ],
   "source": [
    "# examine the coefficients\n",
    "\n",
    "for i in range(138):\n",
    "    print(list(train_cols)[i], logitModel.coef_[0][i])"
   ]
  },
  {
   "cell_type": "code",
   "execution_count": 105,
   "metadata": {
    "collapsed": false,
    "scrolled": true
   },
   "outputs": [],
   "source": [
    "#using statsmodel library\n",
    "\n",
    "data['intercept'] = 1.0\n",
    "\n",
    "train_cols = data.columns[1:]\n",
    "\n",
    "logit = sm.Logit(data['is_it_HAI'], data[train_cols])\n"
   ]
  },
  {
   "cell_type": "code",
   "execution_count": 106,
   "metadata": {
    "collapsed": false
   },
   "outputs": [
    {
     "name": "stdout",
     "output_type": "stream",
     "text": [
      "Warning: Maximum number of iterations has been exceeded.\n",
      "         Current function value: inf\n",
      "         Iterations: 35\n"
     ]
    },
    {
     "ename": "LinAlgError",
     "evalue": "Singular matrix",
     "output_type": "error",
     "traceback": [
      "\u001b[0;31m---------------------------------------------------------------------------\u001b[0m",
      "\u001b[0;31mLinAlgError\u001b[0m                               Traceback (most recent call last)",
      "\u001b[0;32m<ipython-input-106-04adbb137e87>\u001b[0m in \u001b[0;36m<module>\u001b[0;34m()\u001b[0m\n\u001b[1;32m      1\u001b[0m \u001b[0;34m\u001b[0m\u001b[0m\n\u001b[0;32m----> 2\u001b[0;31m \u001b[0mresult\u001b[0m \u001b[0;34m=\u001b[0m \u001b[0mlogit\u001b[0m\u001b[0;34m.\u001b[0m\u001b[0mfit\u001b[0m\u001b[0;34m(\u001b[0m\u001b[0;34m)\u001b[0m\u001b[0;34m\u001b[0m\u001b[0m\n\u001b[0m\u001b[1;32m      3\u001b[0m \u001b[0;34m\u001b[0m\u001b[0m\n",
      "\u001b[0;32m/Users/tankaiwei/anaconda/lib/python3.5/site-packages/statsmodels/discrete/discrete_model.py\u001b[0m in \u001b[0;36mfit\u001b[0;34m(self, start_params, method, maxiter, full_output, disp, callback, **kwargs)\u001b[0m\n\u001b[1;32m   1374\u001b[0m         bnryfit = super(Logit, self).fit(start_params=start_params,\n\u001b[1;32m   1375\u001b[0m                 \u001b[0mmethod\u001b[0m\u001b[0;34m=\u001b[0m\u001b[0mmethod\u001b[0m\u001b[0;34m,\u001b[0m \u001b[0mmaxiter\u001b[0m\u001b[0;34m=\u001b[0m\u001b[0mmaxiter\u001b[0m\u001b[0;34m,\u001b[0m \u001b[0mfull_output\u001b[0m\u001b[0;34m=\u001b[0m\u001b[0mfull_output\u001b[0m\u001b[0;34m,\u001b[0m\u001b[0;34m\u001b[0m\u001b[0m\n\u001b[0;32m-> 1376\u001b[0;31m                 disp=disp, callback=callback, **kwargs)\n\u001b[0m\u001b[1;32m   1377\u001b[0m \u001b[0;34m\u001b[0m\u001b[0m\n\u001b[1;32m   1378\u001b[0m         \u001b[0mdiscretefit\u001b[0m \u001b[0;34m=\u001b[0m \u001b[0mLogitResults\u001b[0m\u001b[0;34m(\u001b[0m\u001b[0mself\u001b[0m\u001b[0;34m,\u001b[0m \u001b[0mbnryfit\u001b[0m\u001b[0;34m)\u001b[0m\u001b[0;34m\u001b[0m\u001b[0m\n",
      "\u001b[0;32m/Users/tankaiwei/anaconda/lib/python3.5/site-packages/statsmodels/discrete/discrete_model.py\u001b[0m in \u001b[0;36mfit\u001b[0;34m(self, start_params, method, maxiter, full_output, disp, callback, **kwargs)\u001b[0m\n\u001b[1;32m    201\u001b[0m         mlefit = super(DiscreteModel, self).fit(start_params=start_params,\n\u001b[1;32m    202\u001b[0m                 \u001b[0mmethod\u001b[0m\u001b[0;34m=\u001b[0m\u001b[0mmethod\u001b[0m\u001b[0;34m,\u001b[0m \u001b[0mmaxiter\u001b[0m\u001b[0;34m=\u001b[0m\u001b[0mmaxiter\u001b[0m\u001b[0;34m,\u001b[0m \u001b[0mfull_output\u001b[0m\u001b[0;34m=\u001b[0m\u001b[0mfull_output\u001b[0m\u001b[0;34m,\u001b[0m\u001b[0;34m\u001b[0m\u001b[0m\n\u001b[0;32m--> 203\u001b[0;31m                 disp=disp, callback=callback, **kwargs)\n\u001b[0m\u001b[1;32m    204\u001b[0m \u001b[0;34m\u001b[0m\u001b[0m\n\u001b[1;32m    205\u001b[0m         \u001b[0;32mreturn\u001b[0m \u001b[0mmlefit\u001b[0m \u001b[0;31m# up to subclasses to wrap results\u001b[0m\u001b[0;34m\u001b[0m\u001b[0m\n",
      "\u001b[0;32m/Users/tankaiwei/anaconda/lib/python3.5/site-packages/statsmodels/base/model.py\u001b[0m in \u001b[0;36mfit\u001b[0;34m(self, start_params, method, maxiter, full_output, disp, fargs, callback, retall, skip_hessian, **kwargs)\u001b[0m\n\u001b[1;32m    432\u001b[0m             \u001b[0mHinv\u001b[0m \u001b[0;34m=\u001b[0m \u001b[0mcov_params_func\u001b[0m\u001b[0;34m(\u001b[0m\u001b[0mself\u001b[0m\u001b[0;34m,\u001b[0m \u001b[0mxopt\u001b[0m\u001b[0;34m,\u001b[0m \u001b[0mretvals\u001b[0m\u001b[0;34m)\u001b[0m\u001b[0;34m\u001b[0m\u001b[0m\n\u001b[1;32m    433\u001b[0m         \u001b[0;32melif\u001b[0m \u001b[0mmethod\u001b[0m \u001b[0;34m==\u001b[0m \u001b[0;34m'newton'\u001b[0m \u001b[0;32mand\u001b[0m \u001b[0mfull_output\u001b[0m\u001b[0;34m:\u001b[0m\u001b[0;34m\u001b[0m\u001b[0m\n\u001b[0;32m--> 434\u001b[0;31m             \u001b[0mHinv\u001b[0m \u001b[0;34m=\u001b[0m \u001b[0mnp\u001b[0m\u001b[0;34m.\u001b[0m\u001b[0mlinalg\u001b[0m\u001b[0;34m.\u001b[0m\u001b[0minv\u001b[0m\u001b[0;34m(\u001b[0m\u001b[0;34m-\u001b[0m\u001b[0mretvals\u001b[0m\u001b[0;34m[\u001b[0m\u001b[0;34m'Hessian'\u001b[0m\u001b[0;34m]\u001b[0m\u001b[0;34m)\u001b[0m \u001b[0;34m/\u001b[0m \u001b[0mnobs\u001b[0m\u001b[0;34m\u001b[0m\u001b[0m\n\u001b[0m\u001b[1;32m    435\u001b[0m         \u001b[0;32melif\u001b[0m \u001b[0;32mnot\u001b[0m \u001b[0mskip_hessian\u001b[0m\u001b[0;34m:\u001b[0m\u001b[0;34m\u001b[0m\u001b[0m\n\u001b[1;32m    436\u001b[0m             \u001b[0;32mtry\u001b[0m\u001b[0;34m:\u001b[0m\u001b[0;34m\u001b[0m\u001b[0m\n",
      "\u001b[0;32m/Users/tankaiwei/anaconda/lib/python3.5/site-packages/numpy/linalg/linalg.py\u001b[0m in \u001b[0;36minv\u001b[0;34m(a)\u001b[0m\n\u001b[1;32m    524\u001b[0m     \u001b[0msignature\u001b[0m \u001b[0;34m=\u001b[0m \u001b[0;34m'D->D'\u001b[0m \u001b[0;32mif\u001b[0m \u001b[0misComplexType\u001b[0m\u001b[0;34m(\u001b[0m\u001b[0mt\u001b[0m\u001b[0;34m)\u001b[0m \u001b[0;32melse\u001b[0m \u001b[0;34m'd->d'\u001b[0m\u001b[0;34m\u001b[0m\u001b[0m\n\u001b[1;32m    525\u001b[0m     \u001b[0mextobj\u001b[0m \u001b[0;34m=\u001b[0m \u001b[0mget_linalg_error_extobj\u001b[0m\u001b[0;34m(\u001b[0m\u001b[0m_raise_linalgerror_singular\u001b[0m\u001b[0;34m)\u001b[0m\u001b[0;34m\u001b[0m\u001b[0m\n\u001b[0;32m--> 526\u001b[0;31m     \u001b[0mainv\u001b[0m \u001b[0;34m=\u001b[0m \u001b[0m_umath_linalg\u001b[0m\u001b[0;34m.\u001b[0m\u001b[0minv\u001b[0m\u001b[0;34m(\u001b[0m\u001b[0ma\u001b[0m\u001b[0;34m,\u001b[0m \u001b[0msignature\u001b[0m\u001b[0;34m=\u001b[0m\u001b[0msignature\u001b[0m\u001b[0;34m,\u001b[0m \u001b[0mextobj\u001b[0m\u001b[0;34m=\u001b[0m\u001b[0mextobj\u001b[0m\u001b[0;34m)\u001b[0m\u001b[0;34m\u001b[0m\u001b[0m\n\u001b[0m\u001b[1;32m    527\u001b[0m     \u001b[0;32mreturn\u001b[0m \u001b[0mwrap\u001b[0m\u001b[0;34m(\u001b[0m\u001b[0mainv\u001b[0m\u001b[0;34m.\u001b[0m\u001b[0mastype\u001b[0m\u001b[0;34m(\u001b[0m\u001b[0mresult_t\u001b[0m\u001b[0;34m,\u001b[0m \u001b[0mcopy\u001b[0m\u001b[0;34m=\u001b[0m\u001b[0;32mFalse\u001b[0m\u001b[0;34m)\u001b[0m\u001b[0;34m)\u001b[0m\u001b[0;34m\u001b[0m\u001b[0m\n\u001b[1;32m    528\u001b[0m \u001b[0;34m\u001b[0m\u001b[0m\n",
      "\u001b[0;32m/Users/tankaiwei/anaconda/lib/python3.5/site-packages/numpy/linalg/linalg.py\u001b[0m in \u001b[0;36m_raise_linalgerror_singular\u001b[0;34m(err, flag)\u001b[0m\n\u001b[1;32m     88\u001b[0m \u001b[0;34m\u001b[0m\u001b[0m\n\u001b[1;32m     89\u001b[0m \u001b[0;32mdef\u001b[0m \u001b[0m_raise_linalgerror_singular\u001b[0m\u001b[0;34m(\u001b[0m\u001b[0merr\u001b[0m\u001b[0;34m,\u001b[0m \u001b[0mflag\u001b[0m\u001b[0;34m)\u001b[0m\u001b[0;34m:\u001b[0m\u001b[0;34m\u001b[0m\u001b[0m\n\u001b[0;32m---> 90\u001b[0;31m     \u001b[0;32mraise\u001b[0m \u001b[0mLinAlgError\u001b[0m\u001b[0;34m(\u001b[0m\u001b[0;34m\"Singular matrix\"\u001b[0m\u001b[0;34m)\u001b[0m\u001b[0;34m\u001b[0m\u001b[0m\n\u001b[0m\u001b[1;32m     91\u001b[0m \u001b[0;34m\u001b[0m\u001b[0m\n\u001b[1;32m     92\u001b[0m \u001b[0;32mdef\u001b[0m \u001b[0m_raise_linalgerror_nonposdef\u001b[0m\u001b[0;34m(\u001b[0m\u001b[0merr\u001b[0m\u001b[0;34m,\u001b[0m \u001b[0mflag\u001b[0m\u001b[0;34m)\u001b[0m\u001b[0;34m:\u001b[0m\u001b[0;34m\u001b[0m\u001b[0m\n",
      "\u001b[0;31mLinAlgError\u001b[0m: Singular matrix"
     ]
    }
   ],
   "source": [
    "\n",
    "result = logit.fit()\n",
    "\n"
   ]
  }
 ],
 "metadata": {
  "anaconda-cloud": {},
  "kernelspec": {
   "display_name": "Python [default]",
   "language": "python",
   "name": "python3"
  },
  "language_info": {
   "codemirror_mode": {
    "name": "ipython",
    "version": 3
   },
   "file_extension": ".py",
   "mimetype": "text/x-python",
   "name": "python",
   "nbconvert_exporter": "python",
   "pygments_lexer": "ipython3",
   "version": "3.5.2"
  }
 },
 "nbformat": 4,
 "nbformat_minor": 1
}
